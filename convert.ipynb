{
 "cells": [
  {
   "cell_type": "code",
   "execution_count": 33,
   "metadata": {},
   "outputs": [],
   "source": [
    "import pandas as pd\n",
    "\n",
    "data = pd.read_excel(\"data/LoadDocstore.xlsx\", sheet_name=1)\n"
   ]
  },
  {
   "cell_type": "code",
   "execution_count": 34,
   "metadata": {},
   "outputs": [],
   "source": [
    "# Cut off the first 3 rows and split into two dfs: balance + transactions\n",
    "data = pd.read_excel(\"data/LoadDocstore.xlsx\", sheet_name=1, skiprows=4, header=0)\n"
   ]
  },
  {
   "cell_type": "code",
   "execution_count": 35,
   "metadata": {},
   "outputs": [],
   "source": [
    "# Split the data into two dataframes: balance + transactions based on first NaN row in Amount Col\n",
    "\n",
    "# Find first blank row in Amount column\n",
    "mask = pd.isna(data['Amount'])\n",
    "tx = data.loc[:mask.idxmax()-1]\n",
    "inv_tx = data.loc[mask.idxmax():]\n",
    "\n",
    "# Find start of second table and remove preceding rows\n",
    "mask = data['Date'].eq('Date')\n",
    "inv_tx = inv_tx.loc[mask.idxmax():]\n",
    "\n",
    "# Rename col headers for inv_tx table\n",
    "inv_tx = inv_tx.rename(columns=inv_tx.iloc[0])\n",
    "inv_tx = inv_tx.drop(inv_tx.index[0])\n",
    "\n",
    "# Remove the total row\n",
    "inv_tx = inv_tx.drop(inv_tx.index[-1])"
   ]
  },
  {
   "cell_type": "code",
   "execution_count": 36,
   "metadata": {},
   "outputs": [],
   "source": [
    "columns = ['Date', 'Time', 'ShareID', 'Type', 'Shares', 'Price', 'Broker', 'Stamp', 'Noncash', 'Total', 'Note']\n"
   ]
  },
  {
   "cell_type": "code",
   "execution_count": 37,
   "metadata": {},
   "outputs": [],
   "source": [
    "import_file_inv_tx = inv_tx.copy()\n",
    "# Renames\n",
    "import_file_inv_tx.rename(columns={'InvestmentName': 'SharepadID'}, inplace=True)\n",
    "import_file_inv_tx.rename(columns={'Quantity': 'Shares'}, inplace=True)\n",
    "import_file_inv_tx.rename(columns={'Cost': 'Total'}, inplace=True)\n",
    "\n",
    "# Copy TransactionDetails for Type\n",
    "import_file_inv_tx['Type'] = import_file_inv_tx['TransactionDetails']\n",
    "import_file_inv_tx['Type'] = import_file_inv_tx['Type'].apply(lambda x: 'buy' if x.startswith('Bought') else 'sell' if x.startswith('Sold') else x)\n",
    "import_file_inv_tx.rename(columns={'TransactionDetails': 'Note'}, inplace=True)\n"
   ]
  },
  {
   "cell_type": "code",
   "execution_count": 38,
   "metadata": {},
   "outputs": [],
   "source": [
    "import_file_tx = tx.copy()\n",
    "\n",
    "# Remove any rows starting with Bought or Sold or relate to Dividends\n",
    "import_file_tx = import_file_tx[~import_file_tx['Details'].str.startswith(('Bought', 'Sold'))]\n",
    "import_file_tx = import_file_tx[~import_file_tx['Details'].str.contains('DIV:')]\n",
    "\n",
    "# Copy Details for Note\n",
    "import_file_tx['Note'] = import_file_tx['Details']\n",
    "\n",
    "# Change Details to Type\n",
    "import_file_tx.loc[import_file_tx['Note'] == 'Regular Deposit', 'Details'] = 'credit'\n",
    "import_file_tx.loc[import_file_tx['Note'].str.startswith('Account Fee'), 'Details'] = 'debit'\n",
    "import_file_tx.loc[import_file_tx['Note'].str.startswith('Cash Account Interest'), 'Details'] = 'credit'\n",
    "import_file_tx.loc[import_file_tx['Note'].str.contains('One-off withdrawal'), 'Details'] = 'debit'\n",
    "\n",
    "# Remove any row starting with Div as SharePad can handle this\n",
    "\n",
    "# Rename Cols\n",
    "import_file_tx.rename(columns={'Details': 'Type'}, inplace=True)\n",
    "import_file_tx.rename(columns={'Amount': 'Total'}, inplace=True)\n",
    "\n",
    "\n",
    "# Remove cols\n",
    "import_file_tx = import_file_tx[['Date', 'Type', 'Total']]\n",
    "\n"
   ]
  },
  {
   "cell_type": "code",
   "execution_count": 39,
   "metadata": {},
   "outputs": [],
   "source": [
    "merged_df = pd.concat([import_file_tx, import_file_inv_tx], ignore_index=True)\n",
    "merged_df['charges'] = 0\n",
    "merged_df['stamp'] = 0\n",
    "merged_df.to_csv('export/merged_df.csv', index=False)"
   ]
  }
 ],
 "metadata": {
  "kernelspec": {
   "display_name": "Python 3",
   "language": "python",
   "name": "python3"
  },
  "language_info": {
   "codemirror_mode": {
    "name": "ipython",
    "version": 3
   },
   "file_extension": ".py",
   "mimetype": "text/x-python",
   "name": "python",
   "nbconvert_exporter": "python",
   "pygments_lexer": "ipython3",
   "version": "3.9.6"
  }
 },
 "nbformat": 4,
 "nbformat_minor": 2
}
