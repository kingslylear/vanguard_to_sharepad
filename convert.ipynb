{
 "cells": [
  {
   "cell_type": "code",
   "execution_count": 15,
   "metadata": {},
   "outputs": [],
   "source": [
    "import pandas as pd"
   ]
  },
  {
   "cell_type": "code",
   "execution_count": 16,
   "metadata": {},
   "outputs": [],
   "source": [
    "# Cut off the first 3 rows and split into two dfs: balance + transactions\n",
    "data = pd.read_excel(\"data/LoadDocstore.xlsx\", sheet_name=1, skiprows=4, header=0)\n"
   ]
  },
  {
   "cell_type": "code",
   "execution_count": 17,
   "metadata": {},
   "outputs": [],
   "source": [
    "# Split the data into two dataframes: balance + transactions based on first NaN row in Amount Col\n",
    "\n",
    "# Find first blank row in Amount column\n",
    "mask = pd.isna(data['Amount'])\n",
    "tx = data.loc[:mask.idxmax()-1]\n",
    "inv_tx = data.loc[mask.idxmax():]\n",
    "\n",
    "# Find start of second table and remove preceding rows\n",
    "mask = data['Date'].eq('Date')\n",
    "inv_tx = inv_tx.loc[mask.idxmax():]\n",
    "\n",
    "# Rename col headers for inv_tx table\n",
    "inv_tx = inv_tx.rename(columns=inv_tx.iloc[0])\n",
    "inv_tx = inv_tx.drop(inv_tx.index[0])\n",
    "\n",
    "# Remove the total row\n",
    "inv_tx = inv_tx.drop(inv_tx.index[-1])"
   ]
  },
  {
   "cell_type": "code",
   "execution_count": 18,
   "metadata": {},
   "outputs": [],
   "source": [
    "columns = ['Date', 'ShareID', 'Type', 'Shares', 'Price', 'Broker', 'Stamp', 'Noncash', 'Total', 'Note']\n"
   ]
  },
  {
   "cell_type": "markdown",
   "metadata": {},
   "source": [
    "Check each row of df\n",
    "if value = 'Regular Deposit', "
   ]
  },
  {
   "cell_type": "code",
   "execution_count": 24,
   "metadata": {},
   "outputs": [
    {
     "name": "stdout",
     "output_type": "stream",
     "text": [
      "There are 250 rows in the table\n",
      "There were 46 deposits\n",
      "There were 27 interest payments\n",
      "There were 15 account fee charges\n",
      "There were 104 share purchases\n",
      "There were 1 share sales\n",
      "There were 1 withdrawals\n"
     ]
    }
   ],
   "source": [
    "import_file_tx = tx.copy()\n",
    "\n",
    "def extract_details(df, col):\n",
    "    export_array = []\n",
    "    total = len(df)\n",
    "    print(f'There are {total} rows in the table')\n",
    "\n",
    "    # Initialize counters\n",
    "    deposits = interest_payments = account_fee_charges = share_purchases = share_sales = withdrawals = unknown = 0\n",
    "\n",
    "    for index, row in df.iterrows():\n",
    "        if row[col] == 'Regular Deposit':\n",
    "            new_values = {'Date': row['Date'], 'SharePadID': '' , 'Type': 'credit', 'Shares': '', 'Price': '', 'Broker': '', 'Stamp': '', 'Noncash': '', 'Total': row['Amount'], 'Note': row['Details']}\n",
    "            export_array.append(new_values)\n",
    "            deposits += 1  # Increment counter\n",
    "        elif row[col] == 'Cash Account Interest':\n",
    "            new_values = {'Date': row['Date'], 'SharePadID': '' , 'Type': 'credit', 'Shares': '', 'Price': '', 'Broker': '', 'Stamp': '', 'Noncash': '', 'Total': row['Amount'], 'Note': row['Details']}\n",
    "            interest_payments += 1  # Increment counter\n",
    "        elif row[col].startswith('Account Fee'):\n",
    "            new_values = {'Date': row['Date'], 'SharePadID': '' , 'Type': 'debit', 'Shares': '', 'Price': '', 'Broker': '', 'Stamp': '', 'Noncash': '', 'Total': row['Amount'], 'Note': row['Details']}\n",
    "            export_array.append(new_values)\n",
    "            account_fee_charges += 1  # Increment counter\n",
    "        elif row[col].startswith('Bought '):\n",
    "            type = 'buy'\n",
    "            split_string = row[col].split(' ', 2)\n",
    "            shares = float(split_string[1])  # Convert to float\n",
    "            sharepad_id = split_string[2]\n",
    "            price = abs(row['Amount']) / shares  # Use the correct variable name\n",
    "            new_values = {'Date': row['Date'], 'SharePadID': sharepad_id , 'Type': type, 'Shares': shares, 'Price': price, 'Broker': '', 'Stamp': '', 'Noncash': '', 'Total': row['Amount'], 'Note': row['Details']}\n",
    "            export_array.append(new_values)\n",
    "            share_purchases += 1  # Increment counter\n",
    "        elif row[col].startswith('Sold '):\n",
    "            type = 'sell'\n",
    "            split_string = row[col].split(' ', 2)\n",
    "            shares = float(split_string[1])  # Convert to float\n",
    "            sharepad_id = split_string[2]\n",
    "            price = abs(row['Amount']) / shares  # Use the correct variable name\n",
    "            new_values = {'Date': row['Date'], 'SharePadID': sharepad_id , 'Type': type, 'Shares': shares, 'Price': price, 'Broker': '', 'Stamp': '', 'Noncash': '', 'Total': row['Amount'], 'Note': row['Details']}\n",
    "            export_array.append(new_values)\n",
    "            share_sales += 1  # Increment counter\n",
    "        elif row[col].startswith('Payment by'):\n",
    "            type = 'debit'\n",
    "            new_values = {'Date': row['Date'], 'SharePadID': '' , 'Type': type, 'Shares': '', 'Price': '', 'Broker': '', 'Stamp': '', 'Noncash': '', 'Total': row['Amount'], 'Note': row['Details']}\n",
    "            export_array.append(new_values)\n",
    "            withdrawals += 1  # Increment counter\n",
    "        elif 'DIV:' in row[col]:\n",
    "            continue\n",
    "        else:\n",
    "            print(f'Unknown transaction type: {row[col]}')\n",
    "            unknown += 1  # Increment counter\n",
    "\n",
    "    # Print the counts\n",
    "    print(f'There were {deposits} deposits')\n",
    "    print(f'There were {interest_payments} interest payments')\n",
    "    print(f'There were {account_fee_charges} account fee charges')\n",
    "    print(f'There were {share_purchases} share purchases')\n",
    "    print(f'There were {share_sales} share sales')\n",
    "    print(f'There were {withdrawals} withdrawals')\n",
    "    \n",
    "    if len(export_array) = deposits + interest_payments + account_fee_charges + share_purchases + share_sales + withdrawals:\n",
    "        print('All transactions have been processed')\n",
    "    else:\n",
    "        print(f'There are {unknown} number of unknown transactions')\n",
    "        \n",
    "    # Convert the array to a DataFrame\n",
    "    export_df = pd.DataFrame(export_array)\n",
    "    # Export the DataFrame to a CSV file\n",
    "    export_df.to_csv('export.csv', index=False)\n",
    "\n",
    "# Call the function\n",
    "export = extract_details(tx, 'Details')"
   ]
  },
  {
   "cell_type": "code",
   "execution_count": 20,
   "metadata": {},
   "outputs": [],
   "source": [
    "import_file_tx = tx.copy()\n",
    "\n",
    "# Remove any rows starting with Bought or Sold or relate to Dividends\n",
    "import_file_tx = import_file_tx[~import_file_tx['Details'].str.startswith(('Bought', 'Sold'))]\n",
    "import_file_tx = import_file_tx[~import_file_tx['Details'].str.contains('DIV:')]\n",
    "\n",
    "# Copy Details for Note\n",
    "import_file_tx['Note'] = import_file_tx['Details']\n",
    "\n",
    "# Change Details to Type\n",
    "import_file_tx.loc[import_file_tx['Note'] == 'Regular Deposit', 'Details'] = 'credit'\n",
    "import_file_tx.loc[import_file_tx['Note'].str.startswith('Account Fee'), 'Details'] = 'debit'\n",
    "import_file_tx.loc[import_file_tx['Note'].str.startswith('Cash Account Interest'), 'Details'] = 'credit'\n",
    "import_file_tx.loc[import_file_tx['Note'].str.contains('One-off withdrawal'), 'Details'] = 'debit'\n",
    "\n",
    "# Remove any row starting with Div as SharePad can handle this\n",
    "\n",
    "# Rename Cols\n",
    "import_file_tx.rename(columns={'Details': 'Type'}, inplace=True)\n",
    "import_file_tx.rename(columns={'Amount': 'Total'}, inplace=True)\n",
    "\n",
    "\n",
    "# Remove cols\n",
    "import_file_tx = import_file_tx[['Date', 'Type', 'Total']]\n",
    "\n"
   ]
  }
 ],
 "metadata": {
  "kernelspec": {
   "display_name": "Python 3",
   "language": "python",
   "name": "python3"
  },
  "language_info": {
   "codemirror_mode": {
    "name": "ipython",
    "version": 3
   },
   "file_extension": ".py",
   "mimetype": "text/x-python",
   "name": "python",
   "nbconvert_exporter": "python",
   "pygments_lexer": "ipython3",
   "version": "3.9.6"
  }
 },
 "nbformat": 4,
 "nbformat_minor": 2
}
